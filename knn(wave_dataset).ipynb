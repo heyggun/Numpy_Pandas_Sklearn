{
  "nbformat": 4,
  "nbformat_minor": 0,
  "metadata": {
    "colab": {
      "name": "knn(wave_dataset).ipynb",
      "provenance": []
    },
    "kernelspec": {
      "name": "python3",
      "display_name": "Python 3"
    }
  },
  "cells": [
    {
      "cell_type": "code",
      "metadata": {
        "id": "bY15e-vqw4Lh"
      },
      "source": [
        "import pandas as pd\r\n",
        "import numpy as np"
      ],
      "execution_count": 20,
      "outputs": []
    },
    {
      "cell_type": "code",
      "metadata": {
        "colab": {
          "base_uri": "https://localhost:8080/"
        },
        "id": "BpF1mv9rcehF",
        "outputId": "9deabc07-2f8b-460c-9dbb-c9c04210aa20"
      },
      "source": [
        "!pip install mglearn"
      ],
      "execution_count": 2,
      "outputs": [
        {
          "output_type": "stream",
          "text": [
            "Collecting mglearn\n",
            "\u001b[?25l  Downloading https://files.pythonhosted.org/packages/65/38/8aced26fce0b2ae82c3c87cd3b6105f38ca6d9d51704ecc44aa54473e6b9/mglearn-0.1.9.tar.gz (540kB)\n",
            "\r\u001b[K     |▋                               | 10kB 16.2MB/s eta 0:00:01\r\u001b[K     |█▏                              | 20kB 23.3MB/s eta 0:00:01\r\u001b[K     |█▉                              | 30kB 16.9MB/s eta 0:00:01\r\u001b[K     |██▍                             | 40kB 14.1MB/s eta 0:00:01\r\u001b[K     |███                             | 51kB 15.4MB/s eta 0:00:01\r\u001b[K     |███▋                            | 61kB 14.7MB/s eta 0:00:01\r\u001b[K     |████▎                           | 71kB 11.1MB/s eta 0:00:01\r\u001b[K     |████▉                           | 81kB 11.7MB/s eta 0:00:01\r\u001b[K     |█████▌                          | 92kB 11.4MB/s eta 0:00:01\r\u001b[K     |██████                          | 102kB 11.6MB/s eta 0:00:01\r\u001b[K     |██████▊                         | 112kB 11.6MB/s eta 0:00:01\r\u001b[K     |███████▎                        | 122kB 11.6MB/s eta 0:00:01\r\u001b[K     |███████▉                        | 133kB 11.6MB/s eta 0:00:01\r\u001b[K     |████████▌                       | 143kB 11.6MB/s eta 0:00:01\r\u001b[K     |█████████                       | 153kB 11.6MB/s eta 0:00:01\r\u001b[K     |█████████▊                      | 163kB 11.6MB/s eta 0:00:01\r\u001b[K     |██████████▎                     | 174kB 11.6MB/s eta 0:00:01\r\u001b[K     |███████████                     | 184kB 11.6MB/s eta 0:00:01\r\u001b[K     |███████████▌                    | 194kB 11.6MB/s eta 0:00:01\r\u001b[K     |████████████▏                   | 204kB 11.6MB/s eta 0:00:01\r\u001b[K     |████████████▊                   | 215kB 11.6MB/s eta 0:00:01\r\u001b[K     |█████████████▍                  | 225kB 11.6MB/s eta 0:00:01\r\u001b[K     |██████████████                  | 235kB 11.6MB/s eta 0:00:01\r\u001b[K     |██████████████▋                 | 245kB 11.6MB/s eta 0:00:01\r\u001b[K     |███████████████▏                | 256kB 11.6MB/s eta 0:00:01\r\u001b[K     |███████████████▊                | 266kB 11.6MB/s eta 0:00:01\r\u001b[K     |████████████████▍               | 276kB 11.6MB/s eta 0:00:01\r\u001b[K     |█████████████████               | 286kB 11.6MB/s eta 0:00:01\r\u001b[K     |█████████████████▋              | 296kB 11.6MB/s eta 0:00:01\r\u001b[K     |██████████████████▏             | 307kB 11.6MB/s eta 0:00:01\r\u001b[K     |██████████████████▉             | 317kB 11.6MB/s eta 0:00:01\r\u001b[K     |███████████████████▍            | 327kB 11.6MB/s eta 0:00:01\r\u001b[K     |████████████████████            | 337kB 11.6MB/s eta 0:00:01\r\u001b[K     |████████████████████▋           | 348kB 11.6MB/s eta 0:00:01\r\u001b[K     |█████████████████████▎          | 358kB 11.6MB/s eta 0:00:01\r\u001b[K     |█████████████████████▉          | 368kB 11.6MB/s eta 0:00:01\r\u001b[K     |██████████████████████▌         | 378kB 11.6MB/s eta 0:00:01\r\u001b[K     |███████████████████████         | 389kB 11.6MB/s eta 0:00:01\r\u001b[K     |███████████████████████▋        | 399kB 11.6MB/s eta 0:00:01\r\u001b[K     |████████████████████████▎       | 409kB 11.6MB/s eta 0:00:01\r\u001b[K     |████████████████████████▉       | 419kB 11.6MB/s eta 0:00:01\r\u001b[K     |█████████████████████████▌      | 430kB 11.6MB/s eta 0:00:01\r\u001b[K     |██████████████████████████      | 440kB 11.6MB/s eta 0:00:01\r\u001b[K     |██████████████████████████▊     | 450kB 11.6MB/s eta 0:00:01\r\u001b[K     |███████████████████████████▎    | 460kB 11.6MB/s eta 0:00:01\r\u001b[K     |████████████████████████████    | 471kB 11.6MB/s eta 0:00:01\r\u001b[K     |████████████████████████████▌   | 481kB 11.6MB/s eta 0:00:01\r\u001b[K     |█████████████████████████████▏  | 491kB 11.6MB/s eta 0:00:01\r\u001b[K     |█████████████████████████████▊  | 501kB 11.6MB/s eta 0:00:01\r\u001b[K     |██████████████████████████████▍ | 512kB 11.6MB/s eta 0:00:01\r\u001b[K     |███████████████████████████████ | 522kB 11.6MB/s eta 0:00:01\r\u001b[K     |███████████████████████████████▌| 532kB 11.6MB/s eta 0:00:01\r\u001b[K     |████████████████████████████████| 542kB 11.6MB/s \n",
            "\u001b[?25hRequirement already satisfied: numpy in /usr/local/lib/python3.6/dist-packages (from mglearn) (1.19.5)\n",
            "Requirement already satisfied: matplotlib in /usr/local/lib/python3.6/dist-packages (from mglearn) (3.2.2)\n",
            "Requirement already satisfied: scikit-learn in /usr/local/lib/python3.6/dist-packages (from mglearn) (0.22.2.post1)\n",
            "Requirement already satisfied: pandas in /usr/local/lib/python3.6/dist-packages (from mglearn) (1.1.5)\n",
            "Requirement already satisfied: pillow in /usr/local/lib/python3.6/dist-packages (from mglearn) (7.0.0)\n",
            "Requirement already satisfied: cycler in /usr/local/lib/python3.6/dist-packages (from mglearn) (0.10.0)\n",
            "Requirement already satisfied: imageio in /usr/local/lib/python3.6/dist-packages (from mglearn) (2.4.1)\n",
            "Requirement already satisfied: joblib in /usr/local/lib/python3.6/dist-packages (from mglearn) (1.0.0)\n",
            "Requirement already satisfied: pyparsing!=2.0.4,!=2.1.2,!=2.1.6,>=2.0.1 in /usr/local/lib/python3.6/dist-packages (from matplotlib->mglearn) (2.4.7)\n",
            "Requirement already satisfied: kiwisolver>=1.0.1 in /usr/local/lib/python3.6/dist-packages (from matplotlib->mglearn) (1.3.1)\n",
            "Requirement already satisfied: python-dateutil>=2.1 in /usr/local/lib/python3.6/dist-packages (from matplotlib->mglearn) (2.8.1)\n",
            "Requirement already satisfied: scipy>=0.17.0 in /usr/local/lib/python3.6/dist-packages (from scikit-learn->mglearn) (1.4.1)\n",
            "Requirement already satisfied: pytz>=2017.2 in /usr/local/lib/python3.6/dist-packages (from pandas->mglearn) (2018.9)\n",
            "Requirement already satisfied: six in /usr/local/lib/python3.6/dist-packages (from cycler->mglearn) (1.15.0)\n",
            "Building wheels for collected packages: mglearn\n",
            "  Building wheel for mglearn (setup.py) ... \u001b[?25l\u001b[?25hdone\n",
            "  Created wheel for mglearn: filename=mglearn-0.1.9-py2.py3-none-any.whl size=582638 sha256=7e73f1381cda9ae139c94fe94783bea087d2267340e17e87931d5f2f806a3c21\n",
            "  Stored in directory: /root/.cache/pip/wheels/eb/a6/ea/a6a3716233fa62fc561259b5cb1e28f79e9ff3592c0adac5f0\n",
            "Successfully built mglearn\n",
            "Installing collected packages: mglearn\n",
            "Successfully installed mglearn-0.1.9\n"
          ],
          "name": "stdout"
        }
      ]
    },
    {
      "cell_type": "code",
      "metadata": {
        "id": "WdQhhiMVb_97"
      },
      "source": [
        "# example (wave dataset) k=3"
      ],
      "execution_count": 3,
      "outputs": []
    },
    {
      "cell_type": "code",
      "metadata": {
        "id": "NjKLH1hnb_r7"
      },
      "source": [
        "import mglearn\n",
        "X, y = mglearn.datasets.make_wave(n_samples=40)"
      ],
      "execution_count": 4,
      "outputs": []
    },
    {
      "cell_type": "code",
      "metadata": {
        "id": "aUHqfjd-b_X2"
      },
      "source": [
        "from sklearn.model_selection import train_test_split\n",
        "X_train, X_test, y_train, y_test = train_test_split(X, y, random_state=0)"
      ],
      "execution_count": 6,
      "outputs": []
    },
    {
      "cell_type": "code",
      "metadata": {
        "id": "pJPk_FpryIba",
        "colab": {
          "base_uri": "https://localhost:8080/"
        },
        "outputId": "7fe5f775-9845-4642-ad5c-cda7cfa98e86"
      },
      "source": [
        "from sklearn.neighbors import KNeighborsRegressor\n",
        "reg = KNeighborsRegressor(n_neighbors=3)\n",
        "reg.fit(X_train, y_train)"
      ],
      "execution_count": 7,
      "outputs": [
        {
          "output_type": "execute_result",
          "data": {
            "text/plain": [
              "KNeighborsRegressor(algorithm='auto', leaf_size=30, metric='minkowski',\n",
              "                    metric_params=None, n_jobs=None, n_neighbors=3, p=2,\n",
              "                    weights='uniform')"
            ]
          },
          "metadata": {
            "tags": []
          },
          "execution_count": 7
        }
      ]
    },
    {
      "cell_type": "code",
      "metadata": {
        "colab": {
          "base_uri": "https://localhost:8080/"
        },
        "id": "-_7yhZvlc6me",
        "outputId": "937dc7b6-eba5-4099-9353-b37dc19b1c36"
      },
      "source": [
        "y_test_hat = reg.predict(X_test)\n",
        "print(y_test)\n",
        "print(y_test_hat)"
      ],
      "execution_count": 8,
      "outputs": [
        {
          "output_type": "stream",
          "text": [
            "[ 0.37299129  0.21778193  0.96695428 -1.38773632 -1.05979555 -0.90496988\n",
            "  0.43655826  0.7789638  -0.54114599 -0.95652133]\n",
            "[-0.05396539  0.35686046  1.13671923 -1.89415682 -1.13881398 -1.63113382\n",
            "  0.35686046  0.91241374 -0.44680446 -1.13881398]\n"
          ],
          "name": "stdout"
        }
      ]
    },
    {
      "cell_type": "code",
      "metadata": {
        "colab": {
          "base_uri": "https://localhost:8080/"
        },
        "id": "Iqu7Rhu6dBCm",
        "outputId": "c736d15f-ab8c-40de-d841-a3c4aa731e26"
      },
      "source": [
        "from sklearn.metrics import mean_absolute_error, mean_squared_error, r2_score\n",
        "print(\"MAE : \", mean_absolute_error(y_test, y_test_hat))\n",
        "print(\"MSE : \", mean_squared_error(y_test, y_test_hat))\n",
        "print(\"R_square :\" , r2_score(y_test, y_test_hat))"
      ],
      "execution_count": 10,
      "outputs": [
        {
          "output_type": "stream",
          "text": [
            "MAE :  0.2537184941556285\n",
            "MSE :  0.1086766237285082\n",
            "R_square : 0.8344172446249605\n"
          ],
          "name": "stdout"
        }
      ]
    },
    {
      "cell_type": "code",
      "metadata": {
        "id": "4QLAU8hIdYBd"
      },
      "source": [
        "# Data scaling\n",
        "# example (forge dataset) with StandardScaler"
      ],
      "execution_count": 11,
      "outputs": []
    },
    {
      "cell_type": "code",
      "metadata": {
        "colab": {
          "base_uri": "https://localhost:8080/"
        },
        "id": "zckk8DnvdtLB",
        "outputId": "008aa50e-23ab-46f2-f4d1-2d3c88eeee09"
      },
      "source": [
        "import mglearn\n",
        "X, y = mglearn.datasets.make_forge()"
      ],
      "execution_count": 13,
      "outputs": [
        {
          "output_type": "stream",
          "text": [
            "/usr/local/lib/python3.6/dist-packages/sklearn/utils/deprecation.py:87: FutureWarning: Function make_blobs is deprecated; Please import make_blobs directly from scikit-learn\n",
            "  warnings.warn(msg, category=FutureWarning)\n"
          ],
          "name": "stderr"
        }
      ]
    },
    {
      "cell_type": "code",
      "metadata": {
        "id": "fWnSfEAQdw1H"
      },
      "source": [
        "from sklearn.model_selection import train_test_split\n",
        "X_train, X_test, y_train, y_test = train_test_split(X, y, test_size= 0.25, random_state=0)"
      ],
      "execution_count": 15,
      "outputs": []
    },
    {
      "cell_type": "code",
      "metadata": {
        "id": "qcA0Ntoud-s_"
      },
      "source": [
        "from sklearn.preprocessing import StandardScaler\n",
        "scaler = StandardScaler()\n",
        "scaler.fit(X_train)\n",
        "X_train_scaled = scaler.transform(X_train)\n",
        "X_test_scaled = scaler.transform(X_test)"
      ],
      "execution_count": 16,
      "outputs": []
    },
    {
      "cell_type": "code",
      "metadata": {
        "colab": {
          "base_uri": "https://localhost:8080/"
        },
        "id": "gcrnGM4zeSoF",
        "outputId": "4a4041d9-e3b8-4c1b-83e8-61967d1cad94"
      },
      "source": [
        "from sklearn.neighbors import KNeighborsClassifier\n",
        "clf = KNeighborsClassifier(n_neighbors=3)\n",
        "clf.fit(X_train_scaled, y_train)"
      ],
      "execution_count": 17,
      "outputs": [
        {
          "output_type": "execute_result",
          "data": {
            "text/plain": [
              "KNeighborsClassifier(algorithm='auto', leaf_size=30, metric='minkowski',\n",
              "                     metric_params=None, n_jobs=None, n_neighbors=3, p=2,\n",
              "                     weights='uniform')"
            ]
          },
          "metadata": {
            "tags": []
          },
          "execution_count": 17
        }
      ]
    },
    {
      "cell_type": "code",
      "metadata": {
        "colab": {
          "base_uri": "https://localhost:8080/"
        },
        "id": "IQy8iRM5eeYJ",
        "outputId": "746c061a-ea6b-4087-ccd3-d90f22627d16"
      },
      "source": [
        "from sklearn.metrics import accuracy_score\n",
        "y_train_hat = clf.predict(X_train_scaled)\n",
        "print(\"train accuarcy : \",accuracy_score(y_train, y_train_hat))\n",
        "y_test_hat = clf.predict(X_test_scaled)\n",
        "print(\"test accuarcy : \",accuracy_score(y_test, y_test_hat))"
      ],
      "execution_count": 18,
      "outputs": [
        {
          "output_type": "stream",
          "text": [
            "train accuarcy :  0.9473684210526315\n",
            "test accuarcy :  0.8571428571428571\n"
          ],
          "name": "stdout"
        }
      ]
    },
    {
      "cell_type": "code",
      "metadata": {
        "colab": {
          "base_uri": "https://localhost:8080/"
        },
        "id": "g2jSXnwXffxi",
        "outputId": "0c18acd5-c877-4abc-e799-da0549630450"
      },
      "source": [
        "print(y_train)\n",
        "print(y_test)\n",
        "print(X_train)\n",
        "print(X_test)\n",
        "print(y_train_hat)\n",
        "print(y_test_hat)"
      ],
      "execution_count": 25,
      "outputs": [
        {
          "output_type": "stream",
          "text": [
            "[0 0 1 1 0 1 0 1 1 1 0 1 0 0 0 1 0 1 0]\n",
            "[1 0 1 0 1 1 0]\n",
            "[[ 8.92229526 -0.63993225]\n",
            " [ 8.7337095   2.49162431]\n",
            " [ 9.32298256  5.09840649]\n",
            " [ 7.99815287  4.8525051 ]\n",
            " [11.0329545  -0.16816717]\n",
            " [ 9.17748385  5.09283177]\n",
            " [11.563957    1.3389402 ]\n",
            " [ 9.15072323  5.49832246]\n",
            " [ 8.34810316  5.13415623]\n",
            " [11.93027136  4.64866327]\n",
            " [ 8.1062269   4.28695977]\n",
            " [ 8.67494727  4.47573059]\n",
            " [ 9.67284681 -0.20283165]\n",
            " [ 9.50169345  1.93824624]\n",
            " [ 8.69289001  1.54322016]\n",
            " [ 9.96346605  4.59676542]\n",
            " [ 9.50048972 -0.26430318]\n",
            " [ 9.25694192  5.13284858]\n",
            " [ 8.68937095  1.48709629]]\n",
            "[[11.54155807  5.21116083]\n",
            " [10.06393839  0.99078055]\n",
            " [ 9.49123469  4.33224792]\n",
            " [ 8.18378052  1.29564214]\n",
            " [ 8.30988863  4.80623966]\n",
            " [10.24028948  2.45544401]\n",
            " [ 8.34468785  1.63824349]]\n",
            "[0 0 1 1 0 1 0 1 1 1 1 1 0 0 0 1 0 1 0]\n",
            "[1 0 1 0 1 0 0]\n"
          ],
          "name": "stdout"
        }
      ]
    },
    {
      "cell_type": "code",
      "metadata": {
        "id": "Jf-zvQ3kfXl3"
      },
      "source": [
        "# example MinMaxScaler"
      ],
      "execution_count": 47,
      "outputs": []
    },
    {
      "cell_type": "code",
      "metadata": {
        "colab": {
          "base_uri": "https://localhost:8080/"
        },
        "id": "8q0lLdwLkHp5",
        "outputId": "5ba37fa0-30fd-4bba-9038-21a53b777549"
      },
      "source": [
        "import mglearn\n",
        "X, y = mglearn.datasets.make_forge()"
      ],
      "execution_count": 38,
      "outputs": [
        {
          "output_type": "stream",
          "text": [
            "/usr/local/lib/python3.6/dist-packages/sklearn/utils/deprecation.py:87: FutureWarning: Function make_blobs is deprecated; Please import make_blobs directly from scikit-learn\n",
            "  warnings.warn(msg, category=FutureWarning)\n"
          ],
          "name": "stderr"
        }
      ]
    },
    {
      "cell_type": "code",
      "metadata": {
        "id": "GtEUBOmOkLqF"
      },
      "source": [
        "from sklearn.model_selection import train_test_split\n",
        "X_train, X_test, y_train, y_test = train_test_split(X, y, test_size=0.25, random_state=0)"
      ],
      "execution_count": 40,
      "outputs": []
    },
    {
      "cell_type": "code",
      "metadata": {
        "id": "cnQucwJdkVxs"
      },
      "source": [
        "from sklearn.preprocessing import MinMaxScaler\n",
        "scaler = MinMaxScaler()\n",
        "scaler.fit(X_train)\n",
        "X_train_scaled = scaler.transform(X_train)\n",
        "X_test_scaled = scaler.transform(X_test)"
      ],
      "execution_count": 41,
      "outputs": []
    },
    {
      "cell_type": "code",
      "metadata": {
        "colab": {
          "base_uri": "https://localhost:8080/"
        },
        "id": "xO2814NbkkOd",
        "outputId": "7da41097-7173-4f7c-d0a4-7640c1e89968"
      },
      "source": [
        "from sklearn.neighbors import KNeighborsClassifier\n",
        "clf = KNeighborsClassifier(n_neighbors=3)\n",
        "clf.fit(X_train_scaled, y_train)"
      ],
      "execution_count": 43,
      "outputs": [
        {
          "output_type": "execute_result",
          "data": {
            "text/plain": [
              "KNeighborsClassifier(algorithm='auto', leaf_size=30, metric='minkowski',\n",
              "                     metric_params=None, n_jobs=None, n_neighbors=3, p=2,\n",
              "                     weights='uniform')"
            ]
          },
          "metadata": {
            "tags": []
          },
          "execution_count": 43
        }
      ]
    },
    {
      "cell_type": "code",
      "metadata": {
        "colab": {
          "base_uri": "https://localhost:8080/"
        },
        "id": "xytywCkBkrWK",
        "outputId": "b4038bfa-f880-48f4-d639-46700a0fe5f6"
      },
      "source": [
        "from sklearn.metrics import accuracy_score\n",
        "y_train_hat = clf.predict(X_train_scaled)\n",
        "print('train accuracy :', accuracy_score(y_train, y_train_hat))\n",
        "y_test_hat = clf.predict(X_test_scaled)\n",
        "print('test accuarcy :', accuracy_score(y_test, y_test_hat))"
      ],
      "execution_count": 46,
      "outputs": [
        {
          "output_type": "stream",
          "text": [
            "train accuracy : 0.9473684210526315\n",
            "test accuarcy : 0.8571428571428571\n"
          ],
          "name": "stdout"
        }
      ]
    },
    {
      "cell_type": "code",
      "metadata": {
        "id": "uFPDSvv-lBnY"
      },
      "source": [
        ""
      ],
      "execution_count": null,
      "outputs": []
    }
  ]
}